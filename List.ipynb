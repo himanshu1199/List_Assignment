{
 "cells": [
  {
   "cell_type": "markdown",
   "id": "223e3a50-4307-4cd9-a497-05dcdf75595d",
   "metadata": {},
   "source": [
    "***Assignment - List*** "
   ]
  },
  {
   "cell_type": "markdown",
   "id": "5105af01-c6ed-4b73-aa4f-33a9c12bf68f",
   "metadata": {},
   "source": [
    "Ans 1 Empty List."
   ]
  },
  {
   "cell_type": "code",
   "execution_count": 29,
   "id": "89f659d5-e22c-4ee3-ad46-bcaa517070d9",
   "metadata": {},
   "outputs": [],
   "source": [
    "L1  = []"
   ]
  },
  {
   "cell_type": "code",
   "execution_count": 30,
   "id": "c77d8ea2-5024-4966-815e-3a21da7371ed",
   "metadata": {},
   "outputs": [
    {
     "name": "stdout",
     "output_type": "stream",
     "text": [
      "[]\n"
     ]
    }
   ],
   "source": [
    "print(L1)"
   ]
  },
  {
   "cell_type": "markdown",
   "id": "2a5d35e6-19ce-46cd-a660-0b49311d847a",
   "metadata": {},
   "source": [
    "Ans 2 Create a List and add a element to the end of list."
   ]
  },
  {
   "cell_type": "code",
   "execution_count": 31,
   "id": "b8ab4481-08ae-46bb-89fc-71991de993d7",
   "metadata": {},
   "outputs": [],
   "source": [
    "L2 = [5, 25, \"Himanshu\", \"Sharma\"]"
   ]
  },
  {
   "cell_type": "code",
   "execution_count": 32,
   "id": "eb120770-19a8-4d28-8845-7605b17bb5bf",
   "metadata": {},
   "outputs": [],
   "source": [
    "L2.append(\"PW Skills\")"
   ]
  },
  {
   "cell_type": "code",
   "execution_count": 33,
   "id": "494208e1-82c2-448f-95c9-4a1103a15557",
   "metadata": {},
   "outputs": [
    {
     "data": {
      "text/plain": [
       "[5, 25, 'Himanshu', 'Sharma', 'PW Skills']"
      ]
     },
     "execution_count": 33,
     "metadata": {},
     "output_type": "execute_result"
    }
   ],
   "source": [
    "L2"
   ]
  },
  {
   "cell_type": "markdown",
   "id": "25df633e-a83d-4a1d-a4d0-2f9fb38ebfbe",
   "metadata": {},
   "source": [
    "Ans 3 Print Last Element."
   ]
  },
  {
   "cell_type": "code",
   "execution_count": 34,
   "id": "92a571c9-eb72-4d1a-9dc9-e7629d42dbae",
   "metadata": {},
   "outputs": [
    {
     "name": "stdout",
     "output_type": "stream",
     "text": [
      "PW Skills\n"
     ]
    }
   ],
   "source": [
    "print(L2[-1])"
   ]
  },
  {
   "cell_type": "markdown",
   "id": "f281c76e-38a4-423f-8726-5c0acf76fe5a",
   "metadata": {},
   "source": [
    "Ans 4 Reverse the created list "
   ]
  },
  {
   "cell_type": "code",
   "execution_count": 35,
   "id": "6cb96c90-c0a4-4ac5-a8b3-b6cb9af092bc",
   "metadata": {},
   "outputs": [
    {
     "data": {
      "text/plain": [
       "['PW Skills', 'Sharma', 'Himanshu', 25, 5]"
      ]
     },
     "execution_count": 35,
     "metadata": {},
     "output_type": "execute_result"
    }
   ],
   "source": [
    "#Temporarily Reverse of the List \n",
    "\n",
    "L2[::-1]"
   ]
  },
  {
   "cell_type": "code",
   "execution_count": 36,
   "id": "9bdd4faa-ff62-44ce-9d5d-859d4ad2e76d",
   "metadata": {},
   "outputs": [],
   "source": [
    "#Permanently Reverse of the List \n",
    "\n",
    "L2.reverse()"
   ]
  },
  {
   "cell_type": "code",
   "execution_count": 37,
   "id": "21780767-7549-43d2-9455-395fb6db1674",
   "metadata": {},
   "outputs": [
    {
     "data": {
      "text/plain": [
       "['PW Skills', 'Sharma', 'Himanshu', 25, 5]"
      ]
     },
     "execution_count": 37,
     "metadata": {},
     "output_type": "execute_result"
    }
   ],
   "source": [
    "L2"
   ]
  },
  {
   "cell_type": "markdown",
   "id": "e97f977e-a8b7-4c59-8d41-c722a5bc4d39",
   "metadata": {},
   "source": [
    "Ans 5 Sort the List."
   ]
  },
  {
   "cell_type": "code",
   "execution_count": 38,
   "id": "8b110797-6bc7-4c85-b84b-d8f7cadb3e7a",
   "metadata": {},
   "outputs": [],
   "source": [
    "L3 = [1, 1, 5, 9, 7]"
   ]
  },
  {
   "cell_type": "code",
   "execution_count": 39,
   "id": "b70ede7c-0c65-4253-b080-4c0e9dc82af7",
   "metadata": {},
   "outputs": [
    {
     "data": {
      "text/plain": [
       "[1, 1, 5, 9, 7]"
      ]
     },
     "execution_count": 39,
     "metadata": {},
     "output_type": "execute_result"
    }
   ],
   "source": [
    "L3"
   ]
  },
  {
   "cell_type": "code",
   "execution_count": 40,
   "id": "aa2dfe7f-919f-40dc-8b6e-077bfdc115db",
   "metadata": {},
   "outputs": [],
   "source": [
    "L3.sort(reverse=False)"
   ]
  },
  {
   "cell_type": "code",
   "execution_count": 41,
   "id": "1e7cabf9-5457-4793-aced-f917d1afd8a6",
   "metadata": {},
   "outputs": [
    {
     "name": "stdout",
     "output_type": "stream",
     "text": [
      "[1, 1, 5, 7, 9]\n"
     ]
    }
   ],
   "source": [
    "print(L3)"
   ]
  },
  {
   "cell_type": "markdown",
   "id": "358c7683-045c-4a63-a696-8413a4c1dd5b",
   "metadata": {},
   "source": [
    "Ans 6 Top 3 favorite Movie List, and Print the second movie title."
   ]
  },
  {
   "cell_type": "code",
   "execution_count": 42,
   "id": "8bee70d4-789e-4c1f-b0fe-791ee60b45f3",
   "metadata": {},
   "outputs": [],
   "source": [
    "L4 = [\"96\", \"Manjhi:The Mountain Man\", \"The Lunch box\"]"
   ]
  },
  {
   "cell_type": "code",
   "execution_count": 43,
   "id": "a1bc3635-3b07-4b5b-b4ec-8dd77a39eff4",
   "metadata": {},
   "outputs": [
    {
     "data": {
      "text/plain": [
       "['96', 'Manjhi:The Mountain Man', 'The Lunch box']"
      ]
     },
     "execution_count": 43,
     "metadata": {},
     "output_type": "execute_result"
    }
   ],
   "source": [
    "L4"
   ]
  },
  {
   "cell_type": "code",
   "execution_count": 44,
   "id": "3b1a8ba6-74ec-42d2-ade0-92e06982f6b7",
   "metadata": {},
   "outputs": [
    {
     "name": "stdout",
     "output_type": "stream",
     "text": [
      "Manjhi:The Mountain Man\n"
     ]
    }
   ],
   "source": [
    "print(L4[1])"
   ]
  },
  {
   "cell_type": "markdown",
   "id": "b2591c25-b266-422b-b013-737a3f3c2060",
   "metadata": {},
   "source": [
    "Ans 7 Create a List of your favorite animal and add a new animal and the print the updated List."
   ]
  },
  {
   "cell_type": "code",
   "execution_count": 45,
   "id": "cf0f3255-2870-43f6-a239-03d9f77c947a",
   "metadata": {},
   "outputs": [],
   "source": [
    "L5 = [\"Mongoose\", \"Wolf\"]"
   ]
  },
  {
   "cell_type": "code",
   "execution_count": 46,
   "id": "3091ca9a-5a25-4a82-84c0-38c538a17f96",
   "metadata": {},
   "outputs": [
    {
     "data": {
      "text/plain": [
       "['Mongoose', 'Wolf']"
      ]
     },
     "execution_count": 46,
     "metadata": {},
     "output_type": "execute_result"
    }
   ],
   "source": [
    "L5 "
   ]
  },
  {
   "cell_type": "code",
   "execution_count": 47,
   "id": "d9c63423-e564-4e31-a2fd-80550a758e13",
   "metadata": {},
   "outputs": [],
   "source": [
    "L5.insert(2,\"Cheetah\")"
   ]
  },
  {
   "cell_type": "code",
   "execution_count": 48,
   "id": "af5782c3-0981-4f49-95c5-ae32887dea7b",
   "metadata": {},
   "outputs": [
    {
     "data": {
      "text/plain": [
       "['Mongoose', 'Wolf', 'Cheetah']"
      ]
     },
     "execution_count": 48,
     "metadata": {},
     "output_type": "execute_result"
    }
   ],
   "source": [
    "L5"
   ]
  },
  {
   "cell_type": "code",
   "execution_count": 49,
   "id": "f5301f25-e8ed-46ae-baa1-da179dcf841f",
   "metadata": {},
   "outputs": [
    {
     "name": "stdout",
     "output_type": "stream",
     "text": [
      "['Mongoose', 'Wolf', 'Cheetah']\n"
     ]
    }
   ],
   "source": [
    "print(L5)"
   ]
  },
  {
   "cell_type": "markdown",
   "id": "f2b41f70-284f-495d-a5de-b22b3f68393d",
   "metadata": {},
   "source": [
    "Ans 8 Create List of the favorite cities and find the position of the specific city in the list and print it."
   ]
  },
  {
   "cell_type": "code",
   "execution_count": 50,
   "id": "ad2a3f89-ba8b-4ab4-9276-21174bf7d917",
   "metadata": {},
   "outputs": [],
   "source": [
    "L6 = [\"Varanasi\", \"Dehradun\", \"Nagpur\", \"Pune\", \"Indore\"]"
   ]
  },
  {
   "cell_type": "code",
   "execution_count": 51,
   "id": "e77ee2e9-b695-43a4-9fbe-c91d7b86bd52",
   "metadata": {},
   "outputs": [
    {
     "data": {
      "text/plain": [
       "['Varanasi', 'Dehradun', 'Nagpur', 'Pune', 'Indore']"
      ]
     },
     "execution_count": 51,
     "metadata": {},
     "output_type": "execute_result"
    }
   ],
   "source": [
    "L6"
   ]
  },
  {
   "cell_type": "code",
   "execution_count": 52,
   "id": "0b190a11-1535-4a22-850c-a6e2de1450f2",
   "metadata": {},
   "outputs": [
    {
     "data": {
      "text/plain": [
       "1"
      ]
     },
     "execution_count": 52,
     "metadata": {},
     "output_type": "execute_result"
    }
   ],
   "source": [
    "L6.index(\"Dehradun\")"
   ]
  },
  {
   "cell_type": "code",
   "execution_count": 53,
   "id": "ef14a263-a3c3-4dc6-ba39-a06469a0bd09",
   "metadata": {},
   "outputs": [
    {
     "name": "stdout",
     "output_type": "stream",
     "text": [
      "Dehradun\n"
     ]
    }
   ],
   "source": [
    "print(L6[1])"
   ]
  }
 ],
 "metadata": {
  "kernelspec": {
   "display_name": "Python 3 (ipykernel)",
   "language": "python",
   "name": "python3"
  },
  "language_info": {
   "codemirror_mode": {
    "name": "ipython",
    "version": 3
   },
   "file_extension": ".py",
   "mimetype": "text/x-python",
   "name": "python",
   "nbconvert_exporter": "python",
   "pygments_lexer": "ipython3",
   "version": "3.10.8"
  }
 },
 "nbformat": 4,
 "nbformat_minor": 5
}
